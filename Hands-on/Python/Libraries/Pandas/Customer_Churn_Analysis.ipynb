{
 "cells": [
  {
   "cell_type": "code",
   "execution_count": 1,
   "id": "46bcd064",
   "metadata": {},
   "outputs": [],
   "source": [
    "# Read the CSV file into a pandas dataframe \n",
    "import numpy as np \n",
    "import pandas as pd \n",
    "df = pd.read_csv(\"C:\\\\Users\\\\Anindita\\\\Pandas\\\\churn.csv\")"
   ]
  },
  {
   "cell_type": "code",
   "execution_count": 3,
   "id": "c03de41e",
   "metadata": {},
   "outputs": [
    {
     "data": {
      "text/plain": [
       "(10000, 14)"
      ]
     },
     "execution_count": 3,
     "metadata": {},
     "output_type": "execute_result"
    }
   ],
   "source": [
    "# Shape of a dataframe is a tuple of array dimensions which defines the number of rows and columns of a given dataframe\n",
    "df.shape"
   ]
  },
  {
   "cell_type": "code",
   "execution_count": 4,
   "id": "ac2c3c36",
   "metadata": {},
   "outputs": [
    {
     "data": {
      "text/plain": [
       "Index(['RowNumber', 'CustomerId', 'Surname', 'CreditScore', 'Geography',\n",
       "       'Gender', 'Age', 'Tenure', 'Balance', 'NumOfProducts', 'HasCrCard',\n",
       "       'IsActiveMember', 'EstimatedSalary', 'Exited'],\n",
       "      dtype='object')"
      ]
     },
     "execution_count": 4,
     "metadata": {},
     "output_type": "execute_result"
    }
   ],
   "source": [
    "# to check the df columns in Pandas\n",
    "df.columns"
   ]
  },
  {
   "cell_type": "code",
   "execution_count": 5,
   "id": "712c1262",
   "metadata": {},
   "outputs": [],
   "source": [
    "# drop the columns from the pandas df by using drop() function\n",
    "df.drop(['RowNumber', 'CustomerId', 'Surname', 'CreditScore'], axis=1, inplace=True)\n"
   ]
  },
  {
   "cell_type": "code",
   "execution_count": 7,
   "id": "43daa024",
   "metadata": {},
   "outputs": [
    {
     "data": {
      "text/plain": [
       "(10000, 10)"
      ]
     },
     "execution_count": 7,
     "metadata": {},
     "output_type": "execute_result"
    }
   ],
   "source": [
    "# change the number of columns from 14 to 10 \n",
    "df.shape"
   ]
  },
  {
   "cell_type": "code",
   "execution_count": 8,
   "id": "85ae51e8",
   "metadata": {},
   "outputs": [
    {
     "data": {
      "text/html": [
       "<div>\n",
       "<style scoped>\n",
       "    .dataframe tbody tr th:only-of-type {\n",
       "        vertical-align: middle;\n",
       "    }\n",
       "\n",
       "    .dataframe tbody tr th {\n",
       "        vertical-align: top;\n",
       "    }\n",
       "\n",
       "    .dataframe thead th {\n",
       "        text-align: right;\n",
       "    }\n",
       "</style>\n",
       "<table border=\"1\" class=\"dataframe\">\n",
       "  <thead>\n",
       "    <tr style=\"text-align: right;\">\n",
       "      <th></th>\n",
       "      <th>Gender</th>\n",
       "      <th>Age</th>\n",
       "      <th>Tenure</th>\n",
       "      <th>Balance</th>\n",
       "    </tr>\n",
       "  </thead>\n",
       "  <tbody>\n",
       "    <tr>\n",
       "      <th>0</th>\n",
       "      <td>Female</td>\n",
       "      <td>42</td>\n",
       "      <td>2</td>\n",
       "      <td>0.00</td>\n",
       "    </tr>\n",
       "    <tr>\n",
       "      <th>1</th>\n",
       "      <td>Female</td>\n",
       "      <td>41</td>\n",
       "      <td>1</td>\n",
       "      <td>83807.86</td>\n",
       "    </tr>\n",
       "    <tr>\n",
       "      <th>2</th>\n",
       "      <td>Female</td>\n",
       "      <td>42</td>\n",
       "      <td>8</td>\n",
       "      <td>159660.80</td>\n",
       "    </tr>\n",
       "    <tr>\n",
       "      <th>3</th>\n",
       "      <td>Female</td>\n",
       "      <td>39</td>\n",
       "      <td>1</td>\n",
       "      <td>0.00</td>\n",
       "    </tr>\n",
       "    <tr>\n",
       "      <th>4</th>\n",
       "      <td>Female</td>\n",
       "      <td>43</td>\n",
       "      <td>2</td>\n",
       "      <td>125510.82</td>\n",
       "    </tr>\n",
       "  </tbody>\n",
       "</table>\n",
       "</div>"
      ],
      "text/plain": [
       "   Gender  Age  Tenure    Balance\n",
       "0  Female   42       2       0.00\n",
       "1  Female   41       1   83807.86\n",
       "2  Female   42       8  159660.80\n",
       "3  Female   39       1       0.00\n",
       "4  Female   43       2  125510.82"
      ]
     },
     "execution_count": 8,
     "metadata": {},
     "output_type": "execute_result"
    }
   ],
   "source": [
    "# select particular columns while reading \n",
    "df_spec = pd.read_csv(\"C:\\\\Users\\\\Anindita\\\\Pandas\\\\churn.csv\", usecols=['Gender', 'Age', 'Tenure', 'Balance'])\n",
    "df_spec.head()\n"
   ]
  },
  {
   "cell_type": "code",
   "execution_count": 10,
   "id": "2298cf15",
   "metadata": {},
   "outputs": [
    {
     "data": {
      "text/plain": [
       "(5000, 14)"
      ]
     },
     "execution_count": 10,
     "metadata": {},
     "output_type": "execute_result"
    }
   ],
   "source": [
    "# reading a part of the dataframe \n",
    "#The read_csv() allows reading a part of the dataframe in terms of rows. There're two options, the first one is to read the first n number of rows.\n",
    "# using the nrows parameters, so we created a dataframe which contains the first 5000 rows of the csv file. \n",
    "\n",
    "df_partial = pd.read_csv(\"C:\\\\Users\\\\Anindita\\\\Pandas\\\\churn.csv\", nrows=5000)\n",
    "df_partial.shape\n",
    "\n",
    "#we can also select rows from the end of the file by using the skiprows parameter. Skiprows=2000 parameter it means, it will skip the \n",
    "# first 2000 rows while reading the csv file"
   ]
  },
  {
   "cell_type": "code",
   "execution_count": 12,
   "id": "64cf86c1",
   "metadata": {},
   "outputs": [
    {
     "data": {
      "text/plain": [
       "(1000, 10)"
      ]
     },
     "execution_count": 12,
     "metadata": {},
     "output_type": "execute_result"
    }
   ],
   "source": [
    "# Sampling of data \n",
    "# After creating a dataframe, we may want to draw a small amount of sample to work. We can either use the n parameter of frac \n",
    "# parameter\n",
    "# to determine the sample size \n",
    "# n: the number of rows in the sample\n",
    "# frac: the ratio of the sample size to the whole dataframe size \n",
    "\n",
    "df_sample = df.sample(n=1000)\n",
    "df_sample.shape\n",
    "df_sample2 = df.sample(frac=0.1)\n",
    "df_sample2.shape"
   ]
  },
  {
   "cell_type": "code",
   "execution_count": 15,
   "id": "e1ab0010",
   "metadata": {},
   "outputs": [
    {
     "data": {
      "text/plain": [
       "Geography          0\n",
       "Gender             0\n",
       "Age                0\n",
       "Tenure             0\n",
       "Balance            0\n",
       "NumOfProducts      0\n",
       "HasCrCard          0\n",
       "IsActiveMember     0\n",
       "EstimatedSalary    0\n",
       "Exited             0\n",
       "dtype: int64"
      ]
     },
     "execution_count": 15,
     "metadata": {},
     "output_type": "execute_result"
    }
   ],
   "source": [
    "# Check the missing values by using isna() function \n",
    "\n",
    "# the isna() determines the missing values in a dataframe. By using isna() with sum() function, we can see the number of missing\n",
    "# values in each column. \n",
    "\n",
    "df.isna().sum()\n",
    "#df.shape"
   ]
  },
  {
   "cell_type": "code",
   "execution_count": 17,
   "id": "da591fcd",
   "metadata": {},
   "outputs": [
    {
     "data": {
      "text/plain": [
       "Geography          40\n",
       "Gender              0\n",
       "Age                 0\n",
       "Tenure              0\n",
       "Balance            40\n",
       "NumOfProducts       0\n",
       "HasCrCard           0\n",
       "IsActiveMember      0\n",
       "EstimatedSalary     0\n",
       "Exited             40\n",
       "dtype: int64"
      ]
     },
     "execution_count": 17,
     "metadata": {},
     "output_type": "execute_result"
    }
   ],
   "source": [
    "# Add missing values using loc() and iloc(). \n",
    "# these methods can select the rows and columns to add missing values based on index/labels of rows/columns. \n",
    "\n",
    "# loc: selects with label \n",
    "# iloc: selects with index for the rows and columns to add the missing values \n",
    "\n",
    "# lets first create 20 random indices to select \n",
    "\n",
    "missing_index = np.random.randint(10000, size=20)\n",
    "\n",
    "# we'll use these indices to change some values as np.nan(missing value). \n",
    "# there'll be 20 missing values in the columns \"Balance\" & \"Geography\". \n",
    "\n",
    "df.loc[missing_index, ['Balance', 'Geography']] = np.nan\n",
    "\n",
    "#\"Lets apply the labels with iloc\"\n",
    "# \"-1\" represents index of the last column which's existed.  \n",
    "\n",
    "df.iloc[missing_index, -1] = np.nan \n",
    "df.isna().sum()"
   ]
  },
  {
   "cell_type": "code",
   "execution_count": 21,
   "id": "3348d6e1",
   "metadata": {},
   "outputs": [
    {
     "data": {
      "text/plain": [
       "Geography           0\n",
       "Gender              0\n",
       "Age                 0\n",
       "Tenure              0\n",
       "Balance             0\n",
       "NumOfProducts       0\n",
       "HasCrCard           0\n",
       "IsActiveMember      0\n",
       "EstimatedSalary     0\n",
       "Exited             40\n",
       "dtype: int64"
      ]
     },
     "execution_count": 21,
     "metadata": {},
     "output_type": "execute_result"
    }
   ],
   "source": [
    "# fill the missing values \n",
    "# the fillna() function is used to fill the missing values. It provides many options. We can use a specific value, an aggregate function\n",
    "#(e.g. mean etc.), or the previous or next value. \n",
    "\n",
    "mode = df['Geography'].value_counts().index[0]\n",
    "df['Geography'].fillna(value=mode, inplace=True)\n",
    "df.isna().sum()"
   ]
  },
  {
   "cell_type": "code",
   "execution_count": null,
   "id": "71272da1",
   "metadata": {},
   "outputs": [],
   "source": [
    "# for the balance column, we'll use the mean of the column to replace the missing values \n",
    "\n",
    "avg = df['Balance'].mean()\n",
    "df['Balance'].fillna(value=avg, inplace=True)\n",
    "df.isna().sum()\n",
    "\n",
    "# the method parameter of the fillna() function of pandas dataframe can be used to fill missing values based on previous or next value\n",
    "# in a column. "
   ]
  },
  {
   "cell_type": "code",
   "execution_count": 23,
   "id": "86d26a70",
   "metadata": {},
   "outputs": [],
   "source": [
    "# dropping the missing values \n",
    "# Another way to handle missing values is to drop them. There're still missing values in the \"Exited\" column.  \n",
    "#We'll drop the missing values from any of the rows of the specific columns. \n",
    "\n",
    "df.dropna(axis=0, how='any', inplace=True)\n",
    "\n",
    "# the axis=1 is used to drop columns with missing values and axis=0 is used to drop rows with missing values. "
   ]
  },
  {
   "cell_type": "code",
   "execution_count": 24,
   "id": "33bfd0d8",
   "metadata": {},
   "outputs": [
    {
     "data": {
      "text/plain": [
       "Geography          0\n",
       "Gender             0\n",
       "Age                0\n",
       "Tenure             0\n",
       "Balance            0\n",
       "NumOfProducts      0\n",
       "HasCrCard          0\n",
       "IsActiveMember     0\n",
       "EstimatedSalary    0\n",
       "Exited             0\n",
       "dtype: int64"
      ]
     },
     "execution_count": 24,
     "metadata": {},
     "output_type": "execute_result"
    }
   ],
   "source": [
    "df.isna().sum()"
   ]
  },
  {
   "cell_type": "code",
   "execution_count": 25,
   "id": "5c90543a",
   "metadata": {},
   "outputs": [
    {
     "data": {
      "text/plain": [
       "0"
      ]
     },
     "execution_count": 25,
     "metadata": {},
     "output_type": "execute_result"
    }
   ],
   "source": [
    "# We can set a threshold value for the number of non-missing values required for a column or row to have. \n",
    "# for instance, thresh=5 means that a row must have at least 5 non-missing values not to be dropped. The rows which have 4 or\n",
    "# fewer missing values will be dropped. \n",
    "\n",
    "# The dataframe does not have any missing values now. \n",
    "\n",
    "df.isna().sum().sum()"
   ]
  },
  {
   "cell_type": "code",
   "execution_count": 26,
   "id": "52a9756e",
   "metadata": {},
   "outputs": [
    {
     "data": {
      "text/plain": [
       "France    808\n",
       "Name: Geography, dtype: int64"
      ]
     },
     "execution_count": 26,
     "metadata": {},
     "output_type": "execute_result"
    }
   ],
   "source": [
    "# selecting rows based on conditions \n",
    "# in some cases, we need the observations, (i.e. rows) which fits into some conditions. For instance, we can select customers \n",
    "# who live in France and have churned\n",
    "\n",
    "france_churn = df[(df.Geography == 'France') & (df.Exited == 1)]\n",
    "france_churn.Geography.value_counts()"
   ]
  },
  {
   "cell_type": "code",
   "execution_count": 27,
   "id": "d437f364",
   "metadata": {},
   "outputs": [],
   "source": [
    "# The query function in Pandas dataframe provides a more flexible way of passing the conditions. \n",
    "\n",
    "df2 = df.query('80000 < Balance < 100000')"
   ]
  },
  {
   "cell_type": "code",
   "execution_count": 28,
   "id": "c391deab",
   "metadata": {},
   "outputs": [
    {
     "data": {
      "text/plain": [
       "<AxesSubplot:ylabel='Frequency'>"
      ]
     },
     "execution_count": 28,
     "metadata": {},
     "output_type": "execute_result"
    },
    {
     "data": {
      "image/png": "[encoded data removed]",
      "text/plain": [
       "<Figure size 800x500 with 1 Axes>"
      ]
     },
     "metadata": {},
     "output_type": "display_data"
    }
   ],
   "source": [
    "# lets define the result by plotting a historgram of the balance column \n",
    "\n",
    "df2['Balance'].plot(kind='hist', figsize=(8,5))"
   ]
  },
  {
   "cell_type": "code",
   "execution_count": 29,
   "id": "81455f36",
   "metadata": {},
   "outputs": [
    {
     "data": {
      "text/html": [
       "<div>\n",
       "<style scoped>\n",
       "    .dataframe tbody tr th:only-of-type {\n",
       "        vertical-align: middle;\n",
       "    }\n",
       "\n",
       "    .dataframe tbody tr th {\n",
       "        vertical-align: top;\n",
       "    }\n",
       "\n",
       "    .dataframe thead th {\n",
       "        text-align: right;\n",
       "    }\n",
       "</style>\n",
       "<table border=\"1\" class=\"dataframe\">\n",
       "  <thead>\n",
       "    <tr style=\"text-align: right;\">\n",
       "      <th></th>\n",
       "      <th></th>\n",
       "      <th>Exited</th>\n",
       "    </tr>\n",
       "    <tr>\n",
       "      <th>Geography</th>\n",
       "      <th>Gender</th>\n",
       "      <th></th>\n",
       "    </tr>\n",
       "  </thead>\n",
       "  <tbody>\n",
       "    <tr>\n",
       "      <th rowspan=\"2\" valign=\"top\">France</th>\n",
       "      <th>Female</th>\n",
       "      <td>0.203375</td>\n",
       "    </tr>\n",
       "    <tr>\n",
       "      <th>Male</th>\n",
       "      <td>0.127598</td>\n",
       "    </tr>\n",
       "    <tr>\n",
       "      <th rowspan=\"2\" valign=\"top\">Germany</th>\n",
       "      <th>Female</th>\n",
       "      <td>0.375845</td>\n",
       "    </tr>\n",
       "    <tr>\n",
       "      <th>Male</th>\n",
       "      <td>0.277863</td>\n",
       "    </tr>\n",
       "    <tr>\n",
       "      <th rowspan=\"2\" valign=\"top\">Spain</th>\n",
       "      <th>Female</th>\n",
       "      <td>0.212316</td>\n",
       "    </tr>\n",
       "    <tr>\n",
       "      <th>Male</th>\n",
       "      <td>0.131598</td>\n",
       "    </tr>\n",
       "  </tbody>\n",
       "</table>\n",
       "</div>"
      ],
      "text/plain": [
       "                    Exited\n",
       "Geography Gender          \n",
       "France    Female  0.203375\n",
       "          Male    0.127598\n",
       "Germany   Female  0.375845\n",
       "          Male    0.277863\n",
       "Spain     Female  0.212316\n",
       "          Male    0.131598"
      ]
     },
     "execution_count": 29,
     "metadata": {},
     "output_type": "execute_result"
    }
   ],
   "source": [
    "# Pandas has Groupby() function which is a versatile and easy to use function that helps to get an overview of the data. \n",
    "# group the rows based on the geography and gender columns and should give us the average churn rate for each group. \n",
    "\n",
    "df[['Geography', 'Gender', 'Exited']].groupby(['Geography','Gender']).mean()"
   ]
  },
  {
   "cell_type": "code",
   "execution_count": 30,
   "id": "47755fa4",
   "metadata": {},
   "outputs": [
    {
     "data": {
      "text/html": [
       "<div>\n",
       "<style scoped>\n",
       "    .dataframe tbody tr th:only-of-type {\n",
       "        vertical-align: middle;\n",
       "    }\n",
       "\n",
       "    .dataframe tbody tr th {\n",
       "        vertical-align: top;\n",
       "    }\n",
       "\n",
       "    .dataframe thead tr th {\n",
       "        text-align: left;\n",
       "    }\n",
       "\n",
       "    .dataframe thead tr:last-of-type th {\n",
       "        text-align: right;\n",
       "    }\n",
       "</style>\n",
       "<table border=\"1\" class=\"dataframe\">\n",
       "  <thead>\n",
       "    <tr>\n",
       "      <th></th>\n",
       "      <th></th>\n",
       "      <th colspan=\"2\" halign=\"left\">Exited</th>\n",
       "    </tr>\n",
       "    <tr>\n",
       "      <th></th>\n",
       "      <th></th>\n",
       "      <th>mean</th>\n",
       "      <th>count</th>\n",
       "    </tr>\n",
       "    <tr>\n",
       "      <th>Geography</th>\n",
       "      <th>Gender</th>\n",
       "      <th></th>\n",
       "      <th></th>\n",
       "    </tr>\n",
       "  </thead>\n",
       "  <tbody>\n",
       "    <tr>\n",
       "      <th rowspan=\"2\" valign=\"top\">France</th>\n",
       "      <th>Female</th>\n",
       "      <td>0.203375</td>\n",
       "      <td>2252</td>\n",
       "    </tr>\n",
       "    <tr>\n",
       "      <th>Male</th>\n",
       "      <td>0.127598</td>\n",
       "      <td>2743</td>\n",
       "    </tr>\n",
       "    <tr>\n",
       "      <th rowspan=\"2\" valign=\"top\">Germany</th>\n",
       "      <th>Female</th>\n",
       "      <td>0.375845</td>\n",
       "      <td>1184</td>\n",
       "    </tr>\n",
       "    <tr>\n",
       "      <th>Male</th>\n",
       "      <td>0.277863</td>\n",
       "      <td>1310</td>\n",
       "    </tr>\n",
       "    <tr>\n",
       "      <th rowspan=\"2\" valign=\"top\">Spain</th>\n",
       "      <th>Female</th>\n",
       "      <td>0.212316</td>\n",
       "      <td>1088</td>\n",
       "    </tr>\n",
       "    <tr>\n",
       "      <th>Male</th>\n",
       "      <td>0.131598</td>\n",
       "      <td>1383</td>\n",
       "    </tr>\n",
       "  </tbody>\n",
       "</table>\n",
       "</div>"
      ],
      "text/plain": [
       "                    Exited      \n",
       "                      mean count\n",
       "Geography Gender                \n",
       "France    Female  0.203375  2252\n",
       "          Male    0.127598  2743\n",
       "Germany   Female  0.375845  1184\n",
       "          Male    0.277863  1310\n",
       "Spain     Female  0.212316  1088\n",
       "          Male    0.131598  1383"
      ]
     },
     "execution_count": 30,
     "metadata": {},
     "output_type": "execute_result"
    }
   ],
   "source": [
    "# Applying multiple aggregate functions with groupby(). \n",
    "# the agg() allows applying multiple aggregate functions on the groups. A list of functions is passed as an argument. \n",
    "\n",
    "df[['Geography', 'Gender', 'Exited']].groupby(['Geography', 'Gender']).agg(['mean', 'count'])"
   ]
  },
  {
   "cell_type": "code",
   "execution_count": 31,
   "id": "130db2b6",
   "metadata": {},
   "outputs": [
    {
     "data": {
      "text/html": [
       "<div>\n",
       "<style scoped>\n",
       "    .dataframe tbody tr th:only-of-type {\n",
       "        vertical-align: middle;\n",
       "    }\n",
       "\n",
       "    .dataframe tbody tr th {\n",
       "        vertical-align: top;\n",
       "    }\n",
       "\n",
       "    .dataframe thead th {\n",
       "        text-align: right;\n",
       "    }\n",
       "</style>\n",
       "<table border=\"1\" class=\"dataframe\">\n",
       "  <thead>\n",
       "    <tr style=\"text-align: right;\">\n",
       "      <th></th>\n",
       "      <th># churned customers</th>\n",
       "      <th>Average Balance of Customers</th>\n",
       "    </tr>\n",
       "    <tr>\n",
       "      <th>Geography</th>\n",
       "      <th></th>\n",
       "      <th></th>\n",
       "    </tr>\n",
       "  </thead>\n",
       "  <tbody>\n",
       "    <tr>\n",
       "      <th>France</th>\n",
       "      <td>808.0</td>\n",
       "      <td>62170.517423</td>\n",
       "    </tr>\n",
       "    <tr>\n",
       "      <th>Germany</th>\n",
       "      <td>809.0</td>\n",
       "      <td>119701.761820</td>\n",
       "    </tr>\n",
       "    <tr>\n",
       "      <th>Spain</th>\n",
       "      <td>413.0</td>\n",
       "      <td>61919.610923</td>\n",
       "    </tr>\n",
       "  </tbody>\n",
       "</table>\n",
       "</div>"
      ],
      "text/plain": [
       "           # churned customers  Average Balance of Customers\n",
       "Geography                                                   \n",
       "France                   808.0                  62170.517423\n",
       "Germany                  809.0                 119701.761820\n",
       "Spain                    413.0                  61919.610923"
      ]
     },
     "execution_count": 31,
     "metadata": {},
     "output_type": "execute_result"
    }
   ],
   "source": [
    "# Applying different aggregate functions to different groups \n",
    "\n",
    "# we may want to see the average balance and total number of customers churned in each country \n",
    "# we'll pass a dictionary which indicates which functions are to be applied to which columns \n",
    "\n",
    "df_summary = df[['Geography', 'Exited', 'Balance']].groupby('Geography').agg({'Exited':'sum', 'Balance': 'mean'})\n",
    "df_summary.rename(columns={'Exited':'# churned customers', 'Balance':'Average Balance of Customers'}, inplace=True)\n",
    "df_summary"
   ]
  },
  {
   "cell_type": "code",
   "execution_count": 34,
   "id": "c428462e",
   "metadata": {},
   "outputs": [
    {
     "data": {
      "text/html": [
       "<div>\n",
       "<style scoped>\n",
       "    .dataframe tbody tr th:only-of-type {\n",
       "        vertical-align: middle;\n",
       "    }\n",
       "\n",
       "    .dataframe tbody tr th {\n",
       "        vertical-align: top;\n",
       "    }\n",
       "\n",
       "    .dataframe thead th {\n",
       "        text-align: right;\n",
       "    }\n",
       "</style>\n",
       "<table border=\"1\" class=\"dataframe\">\n",
       "  <thead>\n",
       "    <tr style=\"text-align: right;\">\n",
       "      <th></th>\n",
       "      <th>Geography</th>\n",
       "      <th>Exited</th>\n",
       "      <th>Balance</th>\n",
       "    </tr>\n",
       "  </thead>\n",
       "  <tbody>\n",
       "    <tr>\n",
       "      <th>0</th>\n",
       "      <td>France</td>\n",
       "      <td>0.0</td>\n",
       "      <td>60461.614865</td>\n",
       "    </tr>\n",
       "    <tr>\n",
       "      <th>1</th>\n",
       "      <td>France</td>\n",
       "      <td>1.0</td>\n",
       "      <td>71025.932042</td>\n",
       "    </tr>\n",
       "    <tr>\n",
       "      <th>2</th>\n",
       "      <td>Germany</td>\n",
       "      <td>0.0</td>\n",
       "      <td>119404.193335</td>\n",
       "    </tr>\n",
       "    <tr>\n",
       "      <th>3</th>\n",
       "      <td>Germany</td>\n",
       "      <td>1.0</td>\n",
       "      <td>120321.542905</td>\n",
       "    </tr>\n",
       "    <tr>\n",
       "      <th>4</th>\n",
       "      <td>Spain</td>\n",
       "      <td>0.0</td>\n",
       "      <td>59793.655991</td>\n",
       "    </tr>\n",
       "    <tr>\n",
       "      <th>5</th>\n",
       "      <td>Spain</td>\n",
       "      <td>1.0</td>\n",
       "      <td>72513.352446</td>\n",
       "    </tr>\n",
       "  </tbody>\n",
       "</table>\n",
       "</div>"
      ],
      "text/plain": [
       "  Geography  Exited        Balance\n",
       "0    France     0.0   60461.614865\n",
       "1    France     1.0   71025.932042\n",
       "2   Germany     0.0  119404.193335\n",
       "3   Germany     1.0  120321.542905\n",
       "4     Spain     0.0   59793.655991\n",
       "5     Spain     1.0   72513.352446"
      ]
     },
     "execution_count": 34,
     "metadata": {},
     "output_type": "execute_result"
    }
   ],
   "source": [
    "# Reset the index of the pandas dataframe \n",
    "# the index of the dataframes that the groupby returns consist of the group names. We can change it by resetting the index. \n",
    "\n",
    "df_new = df[['Geography', 'Exited', 'Balance']].groupby(['Geography','Exited']).mean().reset_index()\n",
    "df_new"
   ]
  },
  {
   "cell_type": "code",
   "execution_count": 35,
   "id": "28b3445c",
   "metadata": {},
   "outputs": [
    {
     "data": {
      "text/html": [
       "<div>\n",
       "<style scoped>\n",
       "    .dataframe tbody tr th:only-of-type {\n",
       "        vertical-align: middle;\n",
       "    }\n",
       "\n",
       "    .dataframe tbody tr th {\n",
       "        vertical-align: top;\n",
       "    }\n",
       "\n",
       "    .dataframe thead th {\n",
       "        text-align: right;\n",
       "    }\n",
       "</style>\n",
       "<table border=\"1\" class=\"dataframe\">\n",
       "  <thead>\n",
       "    <tr style=\"text-align: right;\">\n",
       "      <th></th>\n",
       "      <th>Geography</th>\n",
       "      <th>Exited</th>\n",
       "      <th>Balance</th>\n",
       "      <th>Group</th>\n",
       "    </tr>\n",
       "  </thead>\n",
       "  <tbody>\n",
       "    <tr>\n",
       "      <th>0</th>\n",
       "      <td>France</td>\n",
       "      <td>0.0</td>\n",
       "      <td>60461.614865</td>\n",
       "      <td>6</td>\n",
       "    </tr>\n",
       "    <tr>\n",
       "      <th>1</th>\n",
       "      <td>France</td>\n",
       "      <td>1.0</td>\n",
       "      <td>71025.932042</td>\n",
       "      <td>4</td>\n",
       "    </tr>\n",
       "    <tr>\n",
       "      <th>2</th>\n",
       "      <td>Germany</td>\n",
       "      <td>0.0</td>\n",
       "      <td>119404.193335</td>\n",
       "      <td>8</td>\n",
       "    </tr>\n",
       "    <tr>\n",
       "      <th>3</th>\n",
       "      <td>Germany</td>\n",
       "      <td>1.0</td>\n",
       "      <td>120321.542905</td>\n",
       "      <td>7</td>\n",
       "    </tr>\n",
       "    <tr>\n",
       "      <th>4</th>\n",
       "      <td>Spain</td>\n",
       "      <td>0.0</td>\n",
       "      <td>59793.655991</td>\n",
       "      <td>4</td>\n",
       "    </tr>\n",
       "    <tr>\n",
       "      <th>5</th>\n",
       "      <td>Spain</td>\n",
       "      <td>1.0</td>\n",
       "      <td>72513.352446</td>\n",
       "      <td>7</td>\n",
       "    </tr>\n",
       "  </tbody>\n",
       "</table>\n",
       "</div>"
      ],
      "text/plain": [
       "  Geography  Exited        Balance  Group\n",
       "0    France     0.0   60461.614865      6\n",
       "1    France     1.0   71025.932042      4\n",
       "2   Germany     0.0  119404.193335      8\n",
       "3   Germany     1.0  120321.542905      7\n",
       "4     Spain     0.0   59793.655991      4\n",
       "5     Spain     1.0   72513.352446      7"
      ]
     },
     "execution_count": 35,
     "metadata": {},
     "output_type": "execute_result"
    }
   ],
   "source": [
    "# add a new column to the Pandas dataframe \n",
    "group = np.random.randint(10, size=6)\n",
    "df_new['Group'] = group \n",
    "df_new"
   ]
  },
  {
   "cell_type": "code",
   "execution_count": 37,
   "id": "66532f33",
   "metadata": {},
   "outputs": [
    {
     "data": {
      "text/html": [
       "<div>\n",
       "<style scoped>\n",
       "    .dataframe tbody tr th:only-of-type {\n",
       "        vertical-align: middle;\n",
       "    }\n",
       "\n",
       "    .dataframe tbody tr th {\n",
       "        vertical-align: top;\n",
       "    }\n",
       "\n",
       "    .dataframe thead th {\n",
       "        text-align: right;\n",
       "    }\n",
       "</style>\n",
       "<table border=\"1\" class=\"dataframe\">\n",
       "  <thead>\n",
       "    <tr style=\"text-align: right;\">\n",
       "      <th></th>\n",
       "      <th>Geography</th>\n",
       "      <th>Exited</th>\n",
       "      <th>Balance</th>\n",
       "      <th>Group</th>\n",
       "    </tr>\n",
       "  </thead>\n",
       "  <tbody>\n",
       "    <tr>\n",
       "      <th>0</th>\n",
       "      <td>France</td>\n",
       "      <td>0.0</td>\n",
       "      <td>0.000000</td>\n",
       "      <td>6</td>\n",
       "    </tr>\n",
       "    <tr>\n",
       "      <th>1</th>\n",
       "      <td>France</td>\n",
       "      <td>1.0</td>\n",
       "      <td>0.000000</td>\n",
       "      <td>4</td>\n",
       "    </tr>\n",
       "    <tr>\n",
       "      <th>2</th>\n",
       "      <td>Germany</td>\n",
       "      <td>0.0</td>\n",
       "      <td>119404.193335</td>\n",
       "      <td>8</td>\n",
       "    </tr>\n",
       "    <tr>\n",
       "      <th>3</th>\n",
       "      <td>Germany</td>\n",
       "      <td>1.0</td>\n",
       "      <td>120321.542905</td>\n",
       "      <td>7</td>\n",
       "    </tr>\n",
       "    <tr>\n",
       "      <th>4</th>\n",
       "      <td>Spain</td>\n",
       "      <td>0.0</td>\n",
       "      <td>0.000000</td>\n",
       "      <td>4</td>\n",
       "    </tr>\n",
       "    <tr>\n",
       "      <th>5</th>\n",
       "      <td>Spain</td>\n",
       "      <td>1.0</td>\n",
       "      <td>72513.352446</td>\n",
       "      <td>7</td>\n",
       "    </tr>\n",
       "  </tbody>\n",
       "</table>\n",
       "</div>"
      ],
      "text/plain": [
       "  Geography  Exited        Balance  Group\n",
       "0    France     0.0       0.000000      6\n",
       "1    France     1.0       0.000000      4\n",
       "2   Germany     0.0  119404.193335      8\n",
       "3   Germany     1.0  120321.542905      7\n",
       "4     Spain     0.0       0.000000      4\n",
       "5     Spain     1.0   72513.352446      7"
      ]
     },
     "execution_count": 37,
     "metadata": {},
     "output_type": "execute_result"
    }
   ],
   "source": [
    "# where() in pandas is ised to replace the values in rows or columns based on a condition. The default replacement value is NaN\n",
    "# but we can specify the value to be kept as replacement. \n",
    "\n",
    "# we can consider a dataframe in the previous step (df_new), we can set the balance for customers to 0 who belong to a group \n",
    "# less than 6 \n",
    "\n",
    "df_new['Balance'] = df_new['Balance'].where(df_new['Group'] > 6, 0)\n",
    "df_new"
   ]
  },
  {
   "cell_type": "code",
   "execution_count": 38,
   "id": "53cdd153",
   "metadata": {},
   "outputs": [
    {
     "data": {
      "text/html": [
       "<div>\n",
       "<style scoped>\n",
       "    .dataframe tbody tr th:only-of-type {\n",
       "        vertical-align: middle;\n",
       "    }\n",
       "\n",
       "    .dataframe tbody tr th {\n",
       "        vertical-align: top;\n",
       "    }\n",
       "\n",
       "    .dataframe thead th {\n",
       "        text-align: right;\n",
       "    }\n",
       "</style>\n",
       "<table border=\"1\" class=\"dataframe\">\n",
       "  <thead>\n",
       "    <tr style=\"text-align: right;\">\n",
       "      <th></th>\n",
       "      <th>Geography</th>\n",
       "      <th>Exited</th>\n",
       "      <th>Balance</th>\n",
       "      <th>Group</th>\n",
       "      <th>rank</th>\n",
       "    </tr>\n",
       "  </thead>\n",
       "  <tbody>\n",
       "    <tr>\n",
       "      <th>0</th>\n",
       "      <td>France</td>\n",
       "      <td>0.0</td>\n",
       "      <td>0.000000</td>\n",
       "      <td>6</td>\n",
       "      <td>4</td>\n",
       "    </tr>\n",
       "    <tr>\n",
       "      <th>1</th>\n",
       "      <td>France</td>\n",
       "      <td>1.0</td>\n",
       "      <td>0.000000</td>\n",
       "      <td>4</td>\n",
       "      <td>5</td>\n",
       "    </tr>\n",
       "    <tr>\n",
       "      <th>2</th>\n",
       "      <td>Germany</td>\n",
       "      <td>0.0</td>\n",
       "      <td>119404.193335</td>\n",
       "      <td>8</td>\n",
       "      <td>2</td>\n",
       "    </tr>\n",
       "    <tr>\n",
       "      <th>3</th>\n",
       "      <td>Germany</td>\n",
       "      <td>1.0</td>\n",
       "      <td>120321.542905</td>\n",
       "      <td>7</td>\n",
       "      <td>1</td>\n",
       "    </tr>\n",
       "    <tr>\n",
       "      <th>4</th>\n",
       "      <td>Spain</td>\n",
       "      <td>0.0</td>\n",
       "      <td>0.000000</td>\n",
       "      <td>4</td>\n",
       "      <td>6</td>\n",
       "    </tr>\n",
       "    <tr>\n",
       "      <th>5</th>\n",
       "      <td>Spain</td>\n",
       "      <td>1.0</td>\n",
       "      <td>72513.352446</td>\n",
       "      <td>7</td>\n",
       "      <td>3</td>\n",
       "    </tr>\n",
       "  </tbody>\n",
       "</table>\n",
       "</div>"
      ],
      "text/plain": [
       "  Geography  Exited        Balance  Group  rank\n",
       "0    France     0.0       0.000000      6     4\n",
       "1    France     1.0       0.000000      4     5\n",
       "2   Germany     0.0  119404.193335      8     2\n",
       "3   Germany     1.0  120321.542905      7     1\n",
       "4     Spain     0.0       0.000000      4     6\n",
       "5     Spain     1.0   72513.352446      7     3"
      ]
     },
     "execution_count": 38,
     "metadata": {},
     "output_type": "execute_result"
    }
   ],
   "source": [
    "# Rank() function in Pandas dataframe, it assigns a rank to the values. \n",
    "# lets create a column which ranks the customers according to their balances. \n",
    "\n",
    "df_new['rank'] = df_new['Balance'].rank(method='first', ascending=False).astype('int')\n",
    "df_new"
   ]
  },
  {
   "cell_type": "code",
   "execution_count": 39,
   "id": "2a02840d",
   "metadata": {},
   "outputs": [
    {
     "data": {
      "text/plain": [
       "3"
      ]
     },
     "execution_count": 39,
     "metadata": {},
     "output_type": "execute_result"
    }
   ],
   "source": [
    "# Determine the unique values of the column \n",
    "\n",
    "df.Geography.value_counts().size\n",
    "\n",
    "# check the unique values in the column using the nunique function\n",
    "df.Geography.nunique()"
   ]
  },
  {
   "cell_type": "code",
   "execution_count": 40,
   "id": "183ef51b",
   "metadata": {},
   "outputs": [
    {
     "data": {
      "text/plain": [
       "0    6\n",
       "1    4\n",
       "2    8\n",
       "3    7\n",
       "4    4\n",
       "5    7\n",
       "Name: Group, dtype: int32"
      ]
     },
     "execution_count": 40,
     "metadata": {},
     "output_type": "execute_result"
    }
   ],
   "source": [
    "# Replacing values \n",
    "\n",
    "# The replace() function can be used to replace values in a dataframe \n",
    "\n",
    "df_new['Group'].replace(0, 'B1')"
   ]
  },
  {
   "cell_type": "code",
   "execution_count": 41,
   "id": "21d51720",
   "metadata": {},
   "outputs": [
    {
     "data": {
      "text/plain": [
       "0    6\n",
       "1    4\n",
       "2    8\n",
       "3    7\n",
       "4    4\n",
       "5    7\n",
       "Name: Group, dtype: int32"
      ]
     },
     "execution_count": 41,
     "metadata": {},
     "output_type": "execute_result"
    }
   ],
   "source": [
    "df_new['Group'].replace({0:'B1', 1:'B2'})"
   ]
  },
  {
   "cell_type": "code",
   "execution_count": 42,
   "id": "1d2934cc",
   "metadata": {},
   "outputs": [
    {
     "data": {
      "text/plain": [
       "<AxesSubplot:title={'center':'Customer Balance'}, ylabel='Frequency'>"
      ]
     },
     "execution_count": 42,
     "metadata": {},
     "output_type": "execute_result"
    },
    {
     "data": {
      "image/png": "[encoded data removed]",
      "text/plain": [
       "<Figure size 1000x600 with 1 Axes>"
      ]
     },
     "metadata": {},
     "output_type": "display_data"
    }
   ],
   "source": [
    "# Create a historgram of the customer balance column \n",
    "\n",
    "df['Balance'].plot(kind='hist', figsize=(10, 6), \n",
    "                  title='Customer Balance')"
   ]
  },
  {
   "cell_type": "code",
   "execution_count": 46,
   "id": "a5c8566d",
   "metadata": {},
   "outputs": [
    {
     "data": {
      "text/html": [
       "<div>\n",
       "<style scoped>\n",
       "    .dataframe tbody tr th:only-of-type {\n",
       "        vertical-align: middle;\n",
       "    }\n",
       "\n",
       "    .dataframe tbody tr th {\n",
       "        vertical-align: top;\n",
       "    }\n",
       "\n",
       "    .dataframe thead th {\n",
       "        text-align: right;\n",
       "    }\n",
       "</style>\n",
       "<table border=\"1\" class=\"dataframe\">\n",
       "  <thead>\n",
       "    <tr style=\"text-align: right;\">\n",
       "      <th></th>\n",
       "      <th>Geography</th>\n",
       "      <th>Exited</th>\n",
       "      <th>Balance</th>\n",
       "      <th>Group</th>\n",
       "      <th>rank</th>\n",
       "    </tr>\n",
       "  </thead>\n",
       "  <tbody>\n",
       "    <tr>\n",
       "      <th>4</th>\n",
       "      <td>Spain</td>\n",
       "      <td>0.0</td>\n",
       "      <td>0.000000</td>\n",
       "      <td>4</td>\n",
       "      <td>6</td>\n",
       "    </tr>\n",
       "    <tr>\n",
       "      <th>5</th>\n",
       "      <td>Spain</td>\n",
       "      <td>1.0</td>\n",
       "      <td>72513.352446</td>\n",
       "      <td>7</td>\n",
       "      <td>3</td>\n",
       "    </tr>\n",
       "  </tbody>\n",
       "</table>\n",
       "</div>"
      ],
      "text/plain": [
       "  Geography  Exited       Balance  Group  rank\n",
       "4     Spain     0.0      0.000000      4     6\n",
       "5     Spain     1.0  72513.352446      7     3"
      ]
     },
     "execution_count": 46,
     "metadata": {},
     "output_type": "execute_result"
    }
   ],
   "source": [
    "# Filtering based on strings \n",
    "\n",
    "# we may need to filter rows based on textual data such as number of customers, retrieving churned customer details by geography. \n",
    "# lets select the rows in which Geography name starts with 'Fr/Sp' \n",
    "df_new\n",
    "df_new[df_new.Geography.str.startswith('Sp')]\n"
   ]
  },
  {
   "cell_type": "code",
   "execution_count": 48,
   "id": "0ea64238",
   "metadata": {},
   "outputs": [
    {
     "data": {
      "text/html": [
       "<style type=\"text/css\">\n",
       "#T_0a018_row1_col1, #T_0a018_row2_col3, #T_0a018_row3_col1, #T_0a018_row3_col2, #T_0a018_row4_col0, #T_0a018_row4_col4, #T_0a018_row5_col0, #T_0a018_row5_col1 {\n",
       "  background-color: red;\n",
       "}\n",
       "</style>\n",
       "<table id=\"T_0a018\">\n",
       "  <thead>\n",
       "    <tr>\n",
       "      <th class=\"blank level0\" >&nbsp;</th>\n",
       "      <th id=\"T_0a018_level0_col0\" class=\"col_heading level0 col0\" >Geography</th>\n",
       "      <th id=\"T_0a018_level0_col1\" class=\"col_heading level0 col1\" >Exited</th>\n",
       "      <th id=\"T_0a018_level0_col2\" class=\"col_heading level0 col2\" >Balance</th>\n",
       "      <th id=\"T_0a018_level0_col3\" class=\"col_heading level0 col3\" >Group</th>\n",
       "      <th id=\"T_0a018_level0_col4\" class=\"col_heading level0 col4\" >rank</th>\n",
       "    </tr>\n",
       "  </thead>\n",
       "  <tbody>\n",
       "    <tr>\n",
       "      <th id=\"T_0a018_level0_row0\" class=\"row_heading level0 row0\" >0</th>\n",
       "      <td id=\"T_0a018_row0_col0\" class=\"data row0 col0\" >France</td>\n",
       "      <td id=\"T_0a018_row0_col1\" class=\"data row0 col1\" >0.000000</td>\n",
       "      <td id=\"T_0a018_row0_col2\" class=\"data row0 col2\" >0.000000</td>\n",
       "      <td id=\"T_0a018_row0_col3\" class=\"data row0 col3\" >6</td>\n",
       "      <td id=\"T_0a018_row0_col4\" class=\"data row0 col4\" >4</td>\n",
       "    </tr>\n",
       "    <tr>\n",
       "      <th id=\"T_0a018_level0_row1\" class=\"row_heading level0 row1\" >1</th>\n",
       "      <td id=\"T_0a018_row1_col0\" class=\"data row1 col0\" >France</td>\n",
       "      <td id=\"T_0a018_row1_col1\" class=\"data row1 col1\" >1.000000</td>\n",
       "      <td id=\"T_0a018_row1_col2\" class=\"data row1 col2\" >0.000000</td>\n",
       "      <td id=\"T_0a018_row1_col3\" class=\"data row1 col3\" >4</td>\n",
       "      <td id=\"T_0a018_row1_col4\" class=\"data row1 col4\" >5</td>\n",
       "    </tr>\n",
       "    <tr>\n",
       "      <th id=\"T_0a018_level0_row2\" class=\"row_heading level0 row2\" >2</th>\n",
       "      <td id=\"T_0a018_row2_col0\" class=\"data row2 col0\" >Germany</td>\n",
       "      <td id=\"T_0a018_row2_col1\" class=\"data row2 col1\" >0.000000</td>\n",
       "      <td id=\"T_0a018_row2_col2\" class=\"data row2 col2\" >119404.193335</td>\n",
       "      <td id=\"T_0a018_row2_col3\" class=\"data row2 col3\" >8</td>\n",
       "      <td id=\"T_0a018_row2_col4\" class=\"data row2 col4\" >2</td>\n",
       "    </tr>\n",
       "    <tr>\n",
       "      <th id=\"T_0a018_level0_row3\" class=\"row_heading level0 row3\" >3</th>\n",
       "      <td id=\"T_0a018_row3_col0\" class=\"data row3 col0\" >Germany</td>\n",
       "      <td id=\"T_0a018_row3_col1\" class=\"data row3 col1\" >1.000000</td>\n",
       "      <td id=\"T_0a018_row3_col2\" class=\"data row3 col2\" >120321.542905</td>\n",
       "      <td id=\"T_0a018_row3_col3\" class=\"data row3 col3\" >7</td>\n",
       "      <td id=\"T_0a018_row3_col4\" class=\"data row3 col4\" >1</td>\n",
       "    </tr>\n",
       "    <tr>\n",
       "      <th id=\"T_0a018_level0_row4\" class=\"row_heading level0 row4\" >4</th>\n",
       "      <td id=\"T_0a018_row4_col0\" class=\"data row4 col0\" >Spain</td>\n",
       "      <td id=\"T_0a018_row4_col1\" class=\"data row4 col1\" >0.000000</td>\n",
       "      <td id=\"T_0a018_row4_col2\" class=\"data row4 col2\" >0.000000</td>\n",
       "      <td id=\"T_0a018_row4_col3\" class=\"data row4 col3\" >4</td>\n",
       "      <td id=\"T_0a018_row4_col4\" class=\"data row4 col4\" >6</td>\n",
       "    </tr>\n",
       "    <tr>\n",
       "      <th id=\"T_0a018_level0_row5\" class=\"row_heading level0 row5\" >5</th>\n",
       "      <td id=\"T_0a018_row5_col0\" class=\"data row5 col0\" >Spain</td>\n",
       "      <td id=\"T_0a018_row5_col1\" class=\"data row5 col1\" >1.000000</td>\n",
       "      <td id=\"T_0a018_row5_col2\" class=\"data row5 col2\" >72513.352446</td>\n",
       "      <td id=\"T_0a018_row5_col3\" class=\"data row5 col3\" >7</td>\n",
       "      <td id=\"T_0a018_row5_col4\" class=\"data row5 col4\" >3</td>\n",
       "    </tr>\n",
       "  </tbody>\n",
       "</table>\n"
      ],
      "text/plain": [
       "<pandas.io.formats.style.Styler at 0x2c75b598b20>"
      ]
     },
     "execution_count": 48,
     "metadata": {},
     "output_type": "execute_result"
    }
   ],
   "source": [
    "# styling a pandas dataframe\n",
    "\n",
    "# we can achieve this by using Style property which returns a styler object. It provides many options for formatting and displaying \n",
    "# dataframes. \n",
    "# For instance, we can highlight the minimum and maximum values.\n",
    "# it also allows for applying custom styling functions. \n",
    "\n",
    "df_new.style.highlight_max(axis=0, color='red')"
   ]
  },
  {
   "cell_type": "code",
   "execution_count": null,
   "id": "25f305d4",
   "metadata": {},
   "outputs": [],
   "source": []
  }
 ],
 "metadata": {
  "kernelspec": {
   "display_name": "Python 3 (ipykernel)",
   "language": "python",
   "name": "python3"
  },
  "language_info": {
   "codemirror_mode": {
    "name": "ipython",
    "version": 3
   },
   "file_extension": ".py",
   "mimetype": "text/x-python",
   "name": "python",
   "nbconvert_exporter": "python",
   "pygments_lexer": "ipython3",
   "version": "3.9.13"
  }
 },
 "nbformat": 4,
 "nbformat_minor": 5
}
