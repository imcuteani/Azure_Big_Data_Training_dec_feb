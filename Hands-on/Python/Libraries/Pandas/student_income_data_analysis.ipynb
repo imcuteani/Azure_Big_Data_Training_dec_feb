{
 "cells": [
  {
   "cell_type": "code",
   "execution_count": 3,
   "id": "50eba135",
   "metadata": {},
   "outputs": [
    {
     "name": "stdout",
     "output_type": "stream",
     "text": [
      "Using matplotlib backend: QtAgg\n"
     ]
    }
   ],
   "source": [
    "import pandas as pd \n",
    "%matplotlib\n",
    "import matplotlib.pyplot as plt\n",
    "#pd.options.plotting.backend = \"plotly\""
   ]
  },
  {
   "cell_type": "code",
   "execution_count": 4,
   "id": "08d5f0e3",
   "metadata": {},
   "outputs": [],
   "source": [
    "# import the data from github \n",
    "download_uri = ('https://raw.githubusercontent.com/fivethirtyeight/data/master/college-majors/recent-grads.csv')"
   ]
  },
  {
   "cell_type": "code",
   "execution_count": 5,
   "id": "84f5c4fd",
   "metadata": {},
   "outputs": [],
   "source": [
    "# create the pyspark dataframe \n",
    "df = pd.read_csv(download_uri)"
   ]
  },
  {
   "cell_type": "code",
   "execution_count": 6,
   "id": "4733cc18",
   "metadata": {},
   "outputs": [
    {
     "data": {
      "text/plain": [
       "pandas.core.frame.DataFrame"
      ]
     },
     "execution_count": 6,
     "metadata": {},
     "output_type": "execute_result"
    }
   ],
   "source": [
    "# check the datatype for the dataframe \n",
    "type(df)"
   ]
  },
  {
   "cell_type": "code",
   "execution_count": 5,
   "id": "1bf48b2d",
   "metadata": {},
   "outputs": [
    {
     "data": {
      "text/html": [
       "<div>\n",
       "<style scoped>\n",
       "    .dataframe tbody tr th:only-of-type {\n",
       "        vertical-align: middle;\n",
       "    }\n",
       "\n",
       "    .dataframe tbody tr th {\n",
       "        vertical-align: top;\n",
       "    }\n",
       "\n",
       "    .dataframe thead th {\n",
       "        text-align: right;\n",
       "    }\n",
       "</style>\n",
       "<table border=\"1\" class=\"dataframe\">\n",
       "  <thead>\n",
       "    <tr style=\"text-align: right;\">\n",
       "      <th></th>\n",
       "      <th>Rank</th>\n",
       "      <th>Major_code</th>\n",
       "      <th>Major</th>\n",
       "      <th>Total</th>\n",
       "      <th>Men</th>\n",
       "      <th>Women</th>\n",
       "      <th>Major_category</th>\n",
       "      <th>ShareWomen</th>\n",
       "      <th>Sample_size</th>\n",
       "      <th>Employed</th>\n",
       "      <th>Full_time</th>\n",
       "      <th>Part_time</th>\n",
       "      <th>Full_time_year_round</th>\n",
       "      <th>Unemployed</th>\n",
       "      <th>Unemployment_rate</th>\n",
       "      <th>Median</th>\n",
       "      <th>P25th</th>\n",
       "      <th>P75th</th>\n",
       "      <th>College_jobs</th>\n",
       "      <th>Non_college_jobs</th>\n",
       "      <th>Low_wage_jobs</th>\n",
       "    </tr>\n",
       "  </thead>\n",
       "  <tbody>\n",
       "    <tr>\n",
       "      <th>0</th>\n",
       "      <td>1</td>\n",
       "      <td>2419</td>\n",
       "      <td>PETROLEUM ENGINEERING</td>\n",
       "      <td>2339.0</td>\n",
       "      <td>2057.0</td>\n",
       "      <td>282.0</td>\n",
       "      <td>Engineering</td>\n",
       "      <td>0.120564</td>\n",
       "      <td>36</td>\n",
       "      <td>1976</td>\n",
       "      <td>1849</td>\n",
       "      <td>270</td>\n",
       "      <td>1207</td>\n",
       "      <td>37</td>\n",
       "      <td>0.018381</td>\n",
       "      <td>110000</td>\n",
       "      <td>95000</td>\n",
       "      <td>125000</td>\n",
       "      <td>1534</td>\n",
       "      <td>364</td>\n",
       "      <td>193</td>\n",
       "    </tr>\n",
       "    <tr>\n",
       "      <th>1</th>\n",
       "      <td>2</td>\n",
       "      <td>2416</td>\n",
       "      <td>MINING AND MINERAL ENGINEERING</td>\n",
       "      <td>756.0</td>\n",
       "      <td>679.0</td>\n",
       "      <td>77.0</td>\n",
       "      <td>Engineering</td>\n",
       "      <td>0.101852</td>\n",
       "      <td>7</td>\n",
       "      <td>640</td>\n",
       "      <td>556</td>\n",
       "      <td>170</td>\n",
       "      <td>388</td>\n",
       "      <td>85</td>\n",
       "      <td>0.117241</td>\n",
       "      <td>75000</td>\n",
       "      <td>55000</td>\n",
       "      <td>90000</td>\n",
       "      <td>350</td>\n",
       "      <td>257</td>\n",
       "      <td>50</td>\n",
       "    </tr>\n",
       "    <tr>\n",
       "      <th>2</th>\n",
       "      <td>3</td>\n",
       "      <td>2415</td>\n",
       "      <td>METALLURGICAL ENGINEERING</td>\n",
       "      <td>856.0</td>\n",
       "      <td>725.0</td>\n",
       "      <td>131.0</td>\n",
       "      <td>Engineering</td>\n",
       "      <td>0.153037</td>\n",
       "      <td>3</td>\n",
       "      <td>648</td>\n",
       "      <td>558</td>\n",
       "      <td>133</td>\n",
       "      <td>340</td>\n",
       "      <td>16</td>\n",
       "      <td>0.024096</td>\n",
       "      <td>73000</td>\n",
       "      <td>50000</td>\n",
       "      <td>105000</td>\n",
       "      <td>456</td>\n",
       "      <td>176</td>\n",
       "      <td>0</td>\n",
       "    </tr>\n",
       "    <tr>\n",
       "      <th>3</th>\n",
       "      <td>4</td>\n",
       "      <td>2417</td>\n",
       "      <td>NAVAL ARCHITECTURE AND MARINE ENGINEERING</td>\n",
       "      <td>1258.0</td>\n",
       "      <td>1123.0</td>\n",
       "      <td>135.0</td>\n",
       "      <td>Engineering</td>\n",
       "      <td>0.107313</td>\n",
       "      <td>16</td>\n",
       "      <td>758</td>\n",
       "      <td>1069</td>\n",
       "      <td>150</td>\n",
       "      <td>692</td>\n",
       "      <td>40</td>\n",
       "      <td>0.050125</td>\n",
       "      <td>70000</td>\n",
       "      <td>43000</td>\n",
       "      <td>80000</td>\n",
       "      <td>529</td>\n",
       "      <td>102</td>\n",
       "      <td>0</td>\n",
       "    </tr>\n",
       "    <tr>\n",
       "      <th>4</th>\n",
       "      <td>5</td>\n",
       "      <td>2405</td>\n",
       "      <td>CHEMICAL ENGINEERING</td>\n",
       "      <td>32260.0</td>\n",
       "      <td>21239.0</td>\n",
       "      <td>11021.0</td>\n",
       "      <td>Engineering</td>\n",
       "      <td>0.341631</td>\n",
       "      <td>289</td>\n",
       "      <td>25694</td>\n",
       "      <td>23170</td>\n",
       "      <td>5180</td>\n",
       "      <td>16697</td>\n",
       "      <td>1672</td>\n",
       "      <td>0.061098</td>\n",
       "      <td>65000</td>\n",
       "      <td>50000</td>\n",
       "      <td>75000</td>\n",
       "      <td>18314</td>\n",
       "      <td>4440</td>\n",
       "      <td>972</td>\n",
       "    </tr>\n",
       "  </tbody>\n",
       "</table>\n",
       "</div>"
      ],
      "text/plain": [
       "   Rank  Major_code                                      Major    Total  \\\n",
       "0     1        2419                      PETROLEUM ENGINEERING   2339.0   \n",
       "1     2        2416             MINING AND MINERAL ENGINEERING    756.0   \n",
       "2     3        2415                  METALLURGICAL ENGINEERING    856.0   \n",
       "3     4        2417  NAVAL ARCHITECTURE AND MARINE ENGINEERING   1258.0   \n",
       "4     5        2405                       CHEMICAL ENGINEERING  32260.0   \n",
       "\n",
       "       Men    Women Major_category  ShareWomen  Sample_size  Employed  \\\n",
       "0   2057.0    282.0    Engineering    0.120564           36      1976   \n",
       "1    679.0     77.0    Engineering    0.101852            7       640   \n",
       "2    725.0    131.0    Engineering    0.153037            3       648   \n",
       "3   1123.0    135.0    Engineering    0.107313           16       758   \n",
       "4  21239.0  11021.0    Engineering    0.341631          289     25694   \n",
       "\n",
       "   Full_time  Part_time  Full_time_year_round  Unemployed  Unemployment_rate  \\\n",
       "0       1849        270                  1207          37           0.018381   \n",
       "1        556        170                   388          85           0.117241   \n",
       "2        558        133                   340          16           0.024096   \n",
       "3       1069        150                   692          40           0.050125   \n",
       "4      23170       5180                 16697        1672           0.061098   \n",
       "\n",
       "   Median  P25th   P75th  College_jobs  Non_college_jobs  Low_wage_jobs  \n",
       "0  110000  95000  125000          1534               364            193  \n",
       "1   75000  55000   90000           350               257             50  \n",
       "2   73000  50000  105000           456               176              0  \n",
       "3   70000  43000   80000           529               102              0  \n",
       "4   65000  50000   75000         18314              4440            972  "
      ]
     },
     "execution_count": 5,
     "metadata": {},
     "output_type": "execute_result"
    }
   ],
   "source": [
    "# display the first five rows of the dataframe \n",
    "pd.set_option(\"display.max.columns\", None)\n",
    "df.head()"
   ]
  },
  {
   "cell_type": "code",
   "execution_count": 7,
   "id": "233d52a3",
   "metadata": {},
   "outputs": [],
   "source": [
    "# plotting the graph on the rank of income vs the median , 25th % of income and 75 % of income by Engineering majors\n",
    "df.plot(x=\"Rank\", y=[\"P25th\", \"Median\", \"P75th\"])\n",
    "plt.show()"
   ]
  },
  {
   "cell_type": "code",
   "execution_count": 8,
   "id": "0879d6fe",
   "metadata": {},
   "outputs": [
    {
     "data": {
      "text/plain": [
       "[<matplotlib.lines.Line2D at 0x229281635b0>]"
      ]
     },
     "execution_count": 8,
     "metadata": {},
     "output_type": "execute_result"
    }
   ],
   "source": [
    "plt.plot(df[\"Rank\"], df[\"P75th\"])"
   ]
  },
  {
   "cell_type": "code",
   "execution_count": 10,
   "id": "198997b4",
   "metadata": {},
   "outputs": [],
   "source": [
    "df.plot(x=\"Rank\", y=[\"P25th\", \"Median\", \"P75th\"])\n",
    "plt.show()"
   ]
  },
  {
   "cell_type": "code",
   "execution_count": 11,
   "id": "9f154f5e",
   "metadata": {},
   "outputs": [
    {
     "data": {
      "text/plain": [
       "type[0      110000\n",
       "1       75000\n",
       "2       73000\n",
       "3       70000\n",
       "4       65000\n",
       "        ...  \n",
       "168     26000\n",
       "169     25000\n",
       "170     25000\n",
       "171     23400\n",
       "172     22000\n",
       "Name: Median, Length: 173, dtype: int64]"
      ]
     },
     "execution_count": 11,
     "metadata": {},
     "output_type": "execute_result"
    }
   ],
   "source": [
    "# distribution and histograms \n",
    "median_col = df[\"Median\"]\n",
    "type[median_col]"
   ]
  },
  {
   "cell_type": "code",
   "execution_count": 12,
   "id": "beff41f0",
   "metadata": {},
   "outputs": [
    {
     "data": {
      "text/plain": [
       "<AxesSubplot:xlabel='Rank', ylabel='Frequency'>"
      ]
     },
     "execution_count": 12,
     "metadata": {},
     "output_type": "execute_result"
    }
   ],
   "source": [
    "# plot the median income level \n",
    "median_col.plot(kind='hist')"
   ]
  },
  {
   "cell_type": "code",
   "execution_count": 17,
   "id": "af7e95f6",
   "metadata": {},
   "outputs": [
    {
     "data": {
      "text/plain": [
       "<AxesSubplot:xlabel='Major'>"
      ]
     },
     "execution_count": 17,
     "metadata": {},
     "output_type": "execute_result"
    }
   ],
   "source": [
    "# calculate the top 5 engineering majors based on median income \n",
    "top_5 = df.sort_values(by=\"Median\", ascending=False).head()\n",
    "top_5.plot(x = \"Major\", y=\"Median\", kind=\"bar\", rot=5, fontsize=4)"
   ]
  },
  {
   "cell_type": "code",
   "execution_count": 20,
   "id": "008d098e",
   "metadata": {},
   "outputs": [
    {
     "data": {
      "text/plain": [
       "<AxesSubplot:xlabel='Major'>"
      ]
     },
     "execution_count": 20,
     "metadata": {},
     "output_type": "execute_result"
    }
   ],
   "source": [
    "# analysis of Engineering majors where median income > $60000\n",
    "top_medians = df[df[\"Median\"] > 60000].sort_values(\"Median\")\n",
    "top_medians.plot(x = \"Major\", y=[\"P25th\", \"Median\", \"P75th\"], kind=\"bar\")"
   ]
  },
  {
   "cell_type": "code",
   "execution_count": 21,
   "id": "e00d8db2",
   "metadata": {},
   "outputs": [
    {
     "data": {
      "text/plain": [
       "<AxesSubplot:xlabel='Median'>"
      ]
     },
     "execution_count": 21,
     "metadata": {},
     "output_type": "execute_result"
    }
   ],
   "source": [
    "# correlation check to unployment rate vs median income \n",
    "# correlation between earnings and employment \n",
    "df.plot(x =\"Median\", y=\"Unemployment_rate\", kind=\"area\")"
   ]
  },
  {
   "cell_type": "code",
   "execution_count": 23,
   "id": "74c67b39",
   "metadata": {},
   "outputs": [
    {
     "data": {
      "text/plain": [
       "Major_category\n",
       "Interdisciplinary                        12296.0\n",
       "Agriculture & Natural Resources          75620.0\n",
       "Law & Public Policy                     179107.0\n",
       "Physical Sciences                       185479.0\n",
       "Industrial Arts & Consumer Services     229792.0\n",
       "Computers & Mathematics                 299008.0\n",
       "Arts                                    357130.0\n",
       "Communications & Journalism             392601.0\n",
       "Biology & Life Science                  453862.0\n",
       "Health                                  463230.0\n",
       "Psychology & Social Work                481007.0\n",
       "Social Science                          529966.0\n",
       "Engineering                             537583.0\n",
       "Education                               559129.0\n",
       "Humanities & Liberal Arts               713468.0\n",
       "Business                               1302376.0\n",
       "Name: Total, dtype: float64"
      ]
     },
     "execution_count": 23,
     "metadata": {},
     "output_type": "execute_result"
    }
   ],
   "source": [
    "# Grouping and Aggregtion \n",
    "category_total = df.groupby(\"Major_category\")[\"Total\"].sum().sort_values()\n",
    "category_total"
   ]
  },
  {
   "cell_type": "code",
   "execution_count": 25,
   "id": "4db4ca90",
   "metadata": {},
   "outputs": [
    {
     "data": {
      "text/plain": [
       "<AxesSubplot:ylabel='Major_category'>"
      ]
     },
     "execution_count": 25,
     "metadata": {},
     "output_type": "execute_result"
    }
   ],
   "source": [
    "category_total.plot(kind='barh', fontsize=4)"
   ]
  },
  {
   "cell_type": "code",
   "execution_count": 26,
   "id": "f7b2b64e",
   "metadata": {},
   "outputs": [
    {
     "data": {
      "text/plain": [
       "<AxesSubplot:ylabel='Total'>"
      ]
     },
     "execution_count": 26,
     "metadata": {},
     "output_type": "execute_result"
    }
   ],
   "source": [
    "# on category basis, income analysis \n",
    "small_category_totals = category_total[category_total < 100_000]\n",
    "big_category_totals = category_total[category_total > 100_000]\n",
    "big_category_totals.plot(kind=\"pie\", fontsize=4)"
   ]
  },
  {
   "cell_type": "code",
   "execution_count": 28,
   "id": "15e2c59c",
   "metadata": {},
   "outputs": [
    {
     "data": {
      "text/plain": [
       "<AxesSubplot:ylabel='Frequency'>"
      ]
     },
     "execution_count": 28,
     "metadata": {},
     "output_type": "execute_result"
    }
   ],
   "source": [
    "# For engineering division, the avrage median income distribution in histogram\n",
    "df[df[\"Major_category\"] == \"Engineering\"][\"Median\"].plot(kind=\"hist\")"
   ]
  },
  {
   "cell_type": "code",
   "execution_count": null,
   "id": "6558049c",
   "metadata": {},
   "outputs": [],
   "source": []
  }
 ],
 "metadata": {
  "kernelspec": {
   "display_name": "Python 3 (ipykernel)",
   "language": "python",
   "name": "python3"
  },
  "language_info": {
   "codemirror_mode": {
    "name": "ipython",
    "version": 3
   },
   "file_extension": ".py",
   "mimetype": "text/x-python",
   "name": "python",
   "nbconvert_exporter": "python",
   "pygments_lexer": "ipython3",
   "version": "3.9.13"
  }
 },
 "nbformat": 4,
 "nbformat_minor": 5
}
